{
 "cells": [
  {
   "cell_type": "markdown",
   "metadata": {
    "collapsed": true,
    "pycharm": {
     "name": "#%% md\n"
    }
   },
   "source": [
    "# Задание #3 Data Analysis\n",
    "\n",
    "## Описание предоставленных данных\n",
    "Фрейм test_price состоит из:\n",
    "* Датасет - каталог товара с данными во вложении\n",
    "* id: товар\n",
    "* Brand:Бренд\n",
    "* Category: категория\n",
    "* SubCategory: подкатегория\n",
    "* SellPrice: цена продажи\n",
    "\n",
    "### Библиотеки Python\n",
    "\n",
    "* [Pandas](http://pandas.pydata.org/)\n",
    "- [Tutorials](http://pandas.pydata.org/pandas-docs/stable/tutorials.html)\n",
    "- [Easier data analysis in Python with pandas](http://www.dataschool.io/easier-data-analysis-with-pandas/)\n",
    "\n",
    "## Разминка\n",
    "**Как и в предыдущей лабораторной здесь запрещено использовать циклы, если это специально не оговорено.**\n",
    "1. Описательная статистика\n",
    "* Вывести самый частотный бренд, категорию, подкатегорию\n",
    "*  Вывести по ним размах цен\n",
    "*  Вывести Среднее значение или медиану (выбор обосновать)"
   ]
  },
  {
   "cell_type": "markdown",
   "source": [
    "\n",
    "2. Сделать график Распределения иерархий(бренд, категория, подкатегория) по ценам\n",
    "• Распределение (средняя цена / бренд) - берем топ 25-35 брендов\n",
    "• Распределение (средняя цена / категория) берем топ 25-35 категорий\n",
    "• Распределение (средняя цена / подкатегория) берем топ 25-35 подкатегорий"
   ],
   "metadata": {
    "collapsed": false,
    "pycharm": {
     "name": "#%% md\n"
    }
   }
  },
  {
   "cell_type": "markdown",
   "source": [
    "\n",
    "3. Построить диаграмму размаха boxplot иерархий по ценам\n",
    "* Также как в задание выше (бренд, категория, подкатегория)"
   ],
   "metadata": {
    "collapsed": false,
    "pycharm": {
     "name": "#%% md\n"
    }
   }
  },
  {
   "cell_type": "markdown",
   "source": [
    "\n",
    "4. Построить распределение интервалов цен по самому частотному бренду, категории, подкатегории (шаг интервала обосновать)"
   ],
   "metadata": {
    "collapsed": false,
    "pycharm": {
     "name": "#%% md\n"
    }
   }
  },
  {
   "cell_type": "markdown",
   "source": [
    "\n",
    "5. Сделать сегментацию по уровням цен по иерархии (внутри Brand/Category/SubCategory)\n",
    "* Дополнительные знания найденные в датасете и инсайты приветствуются.\n"
   ],
   "metadata": {
    "collapsed": false,
    "pycharm": {
     "name": "#%% md\n"
    }
   }
  }
 ],
 "metadata": {
  "kernelspec": {
   "display_name": "Python 3",
   "language": "python",
   "name": "python3"
  },
  "language_info": {
   "codemirror_mode": {
    "name": "ipython",
    "version": 2
   },
   "file_extension": ".py",
   "mimetype": "text/x-python",
   "name": "python",
   "nbconvert_exporter": "python",
   "pygments_lexer": "ipython2",
   "version": "2.7.6"
  }
 },
 "nbformat": 4,
 "nbformat_minor": 0
}