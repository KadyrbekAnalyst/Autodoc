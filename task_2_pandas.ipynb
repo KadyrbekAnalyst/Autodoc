{
 "cells": [
  {
   "cell_type": "markdown",
   "metadata": {},
   "source": [
    "# Задание #2 Pandas\n",
    "\n",
    "## Инструменты и ресурсы для выполнения задания\n",
    "\n",
    "### Библиотеки Python\n",
    "\n",
    "  * [Pandas](http://pandas.pydata.org/)\n",
    "    - [Tutorials](http://pandas.pydata.org/pandas-docs/stable/tutorials.html)\n",
    "    - [Easier data analysis in Python with pandas](http://www.dataschool.io/easier-data-analysis-with-pandas/)\n",
    "\n",
    "### Ресурсы по Titanic dataset\n",
    "  * [Сам конкурс](https://www.kaggle.com/c/titanic)\n",
    "  * [Пример решения конкурса](http://nbviewer.jupyter.org/github/agconti/kaggle-titanic/blob/master/Titanic.ipynb)\n",
    "  * [Еще пример](https://habrahabr.ru/company/mlclass/blog/270973/)\n",
    "  \n",
    "## Разминка\n",
    "**Как и в предыдущем задании здесь запрещено использовать циклы, если это специально не оговорено.**\n",
    "1. Скачайте Titanic dataset и загрузите его в pandas.DataFrame; выведите первые 5 записей в ноутбук. Как можно интерпретировать данную таблицу?"
   ]
  },
  {
   "cell_type": "markdown",
   "metadata": {},
   "source": [
    "2. Получите имена столбцов."
   ]
  },
  {
   "cell_type": "markdown",
   "metadata": {},
   "source": [
    "3. Перемешайте строки в случайном порядке."
   ]
  },
  {
   "cell_type": "markdown",
   "metadata": {},
   "source": [
    "4. Получите случайную подвыборку данных с возвращением и без."
   ]
  },
  {
   "cell_type": "markdown",
   "metadata": {},
   "source": [
    "5. Разбейте данные случайным образом на две непересекающиеся подвыборки."
   ]
  },
  {
   "cell_type": "markdown",
   "metadata": {},
   "source": [
    "6. Проверьте, является ли признак **Name** уникальным для каждого пассажира, если да, то сделайте его новым индексом данных."
   ]
  },
  {
   "cell_type": "markdown",
   "metadata": {},
   "source": [
    "7. Проверьте, содержат ли данные пропуски, если да, то заполните их."
   ]
  },
  {
   "cell_type": "markdown",
   "metadata": {},
   "source": [
    "8. Определите, как много пассажиров ехало первым классом."
   ]
  },
  {
   "cell_type": "markdown",
   "metadata": {},
   "source": [
    "9. Постройте гистограмму возрастов пассажиров."
   ]
  },
  {
   "cell_type": "markdown",
   "metadata": {},
   "source": [
    "10. Определите средний возраст пассажиров, медианный возраст, дисперсию."
   ]
  },
  {
   "cell_type": "markdown",
   "metadata": {},
   "source": [
    "11. Добавьте признак, который показывает, какой процент пассажиров имели возраст строго меньше, чем данный пассажир."
   ]
  },
  {
   "cell_type": "markdown",
   "metadata": {},
   "source": [
    "12. Коррелируют ли число братьев/сестер с числом родителей/детей?"
   ]
  },
  {
   "cell_type": "markdown",
   "metadata": {},
   "source": [
    "14. Есть ли зависимость между классом и номером билета?"
   ]
  },
  {
   "cell_type": "markdown",
   "metadata": {},
   "source": [
    "15. Какой части пассажиров удалось выжить?"
   ]
  },
  {
   "cell_type": "markdown",
   "metadata": {},
   "source": [
    "16. Сделайте визуализацию, позволяющую ответить на вопросы:\n",
    "  * Верно ли, что женщины выживали чаще мужчин?\n"
   ]
  },
  {
   "cell_type": "markdown",
   "metadata": {
    "pycharm": {
     "name": "#%% md\n"
    }
   },
   "source": [
    "  * Верно ли, что чаще выживали пассажиры с более дорогими билетами?"
   ]
  }
 ],
 "metadata": {
  "anaconda-cloud": {},
  "kernelspec": {
   "display_name": "Python 3",
   "language": "python",
   "name": "python3"
  },
  "language_info": {
   "codemirror_mode": {
    "name": "ipython",
    "version": 3
   },
   "file_extension": ".py",
   "mimetype": "text/x-python",
   "name": "python",
   "nbconvert_exporter": "python",
   "pygments_lexer": "ipython3",
   "version": "3.7.4"
  }
 },
 "nbformat": 4,
 "nbformat_minor": 1
}