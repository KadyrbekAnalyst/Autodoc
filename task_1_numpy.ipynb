{
 "cells": [
  {
   "cell_type": "markdown",
   "metadata": {},
   "source": [
    "# Задание #1 Numpy\n",
    "## Инструменты для выполнения задания\n",
    "\n",
    "### Jupyter Notebook\n",
    "  * [Three Things I Love About Jupyter Notebooks](http://blog.kaggle.com/2015/12/07/three-things-i-love-about-jupyter-notebooks/)\n",
    "  * [Jupyter Notebook Users Manual](http://jupyter.cs.brynmawr.edu/hub/dblank/public/Jupyter%20Notebook%20Users%20Manual.ipynb)\n",
    "  * [Продвинутые трюки с jupyter часть 1](http://blog.dominodatalab.com/lesser-known-ways-of-using-notebooks/)\n",
    "  * [Продвинутые трюки с jupyter часть 2](http://blog.dominodatalab.com/interactive-dashboards-in-jupyter/)\n",
    "  * [Галерея интересных ноутбуков](https://github.com/ipython/ipython/wiki/A-gallery-of-interesting-IPython-Notebooks)\n",
    "\n",
    "### Библиотеки Python\n",
    "\n",
    "  * [NumPy](http://www.numpy.org/)\n",
    "    - [Tutorial Brief](http://nbviewer.jupyter.org/github/twistedhardware/mltutorial/blob/master/notebooks/IPython-Tutorial/4%20-%20Numpy%20Basics.ipynb)\n",
    "    - [Scipy Lecture Notes](http://www.scipy-lectures.org/). \n",
    "  * [Matplotlib](http://matplotlib.org/index.html)\n",
    "    - [pyplot](http://matplotlib.org/api/pyplot_api.html) — эмуляция функционала графопостроений в Matlab\n",
    "    - [галерея примеров](http://matplotlib.org/gallery.html)\n",
    "  * [skimage](http://scikit-image.org/)\n",
    "\n",
    "## Разминка\n",
    "1. Создайте список (list) и массив (ndarray), содержащие числа от 0 до 100 000 000."
   ]
  },
  {
   "cell_type": "code",
   "execution_count": 65,
   "metadata": {},
   "outputs": [],
   "source": [
    "import pandas as pd\n",
    "import numpy as np\n",
    "from typing import Union, List, Callable\n",
    "from functools import wraps\n",
    "import time\n",
    "import timeit"
   ]
  },
  {
   "cell_type": "code",
   "execution_count": 24,
   "metadata": {},
   "outputs": [
    {
     "name": "stdout",
     "output_type": "stream",
     "text": [
      "1001\n",
      "0 1000\n",
      "[   0    1    2 ...  998  999 1000]\n"
     ]
    },
    {
     "data": {
      "text/plain": [
       "(1001,)"
      ]
     },
     "execution_count": 24,
     "metadata": {},
     "output_type": "execute_result"
    }
   ],
   "source": [
    "############## \n",
    "list_1000 = list(range(0,1001))\n",
    "print(len(list_1000))\n",
    "print(list_1000[0] , list_1000[-1])\n",
    "##############\n",
    "\n",
    "array_1000 = np.arange(1001)\n",
    "print(array_1000)\n",
    "array_1000.ndim\n",
    "array_1000.shape"
   ]
  },
  {
   "cell_type": "markdown",
   "metadata": {},
   "source": [
    "2. Напишите функцию, которая вычисляет сумму всех элементов массива, используя цикл for."
   ]
  },
  {
   "cell_type": "code",
   "execution_count": 27,
   "metadata": {},
   "outputs": [
    {
     "name": "stdout",
     "output_type": "stream",
     "text": [
      "sum_array : 500500\n",
      "sum_list : 500500\n"
     ]
    }
   ],
   "source": [
    "def sum_array(array) -> int:\n",
    "    \"\"\"Return the sum of all elements in the array or list.\n",
    "    Args:\n",
    "    array or list: The array or list to sum.\n",
    "    Returns:\n",
    "    int: The sum of all elements in the array or list.\n",
    "    \"\"\"\n",
    "    \n",
    "    total = 0\n",
    "    \n",
    "    for el in array:\n",
    "        total += el\n",
    "    return total\n",
    "\n",
    "############ test\n",
    "sum_arr = sum_array(array_1000)\n",
    "sum_list = sum_array(list_1000)\n",
    "print(f'sum_array : {sum_arr}')\n",
    "print(f'sum_list : {sum_list}')"
   ]
  },
  {
   "cell_type": "markdown",
   "metadata": {},
   "source": [
    "3. Замерьте: время выполнения этой функции на списке и на массиве, время выполнения функции sum() на списке и на массиве, время выполнения функции numpy.sum() на списке и на массиве."
   ]
  },
  {
   "cell_type": "code",
   "execution_count": 18,
   "metadata": {},
   "outputs": [],
   "source": [
    "# До прочтения 3ьего задания думал фукнция sum_array only for array data class , как вариант можно было наиписать декоратор\n",
    "# Или поставить проверку внутри функции выше\n",
    "def ensure_ndarray(func: Callable) -> Callable:\n",
    "    def wrapper(array: Union[np.ndarray, List[int]]) -> int:\n",
    "        if isinstance(array, list):\n",
    "            array = np.array(array)\n",
    "        return func(array)\n",
    "    return wrapper"
   ]
  },
  {
   "cell_type": "code",
   "execution_count": 35,
   "metadata": {},
   "outputs": [],
   "source": [
    "def timeit(func: Callable) -> Callable:\n",
    "    @wraps(func)\n",
    "    def wrapper(*args, **kwargs):\n",
    "        start_time = time.time()\n",
    "        result = func(*args, **kwargs)\n",
    "        end_time = time.time()\n",
    "        print(f\"Function {func.__name__} took {end_time - start_time:.8f} seconds\")\n",
    "        return result\n",
    "    return wrapper"
   ]
  },
  {
   "cell_type": "code",
   "execution_count": 36,
   "metadata": {},
   "outputs": [],
   "source": [
    "# Пример использования декоратора timeit\n",
    "@timeit\n",
    "def custom_sum_array(array) -> int:\n",
    "    total = 0\n",
    "    for element in array:\n",
    "        total += element\n",
    "    return total\n",
    "\n",
    "# Пример использования декоратора timeit с другими функциями\n",
    "@timeit\n",
    "def built_in_sum(array)-> int:\n",
    "    return sum(array)\n",
    "\n",
    "@timeit\n",
    "def numpy_sum(array)-> int:\n",
    "    return np.sum(array)"
   ]
  },
  {
   "cell_type": "code",
   "execution_count": 64,
   "metadata": {},
   "outputs": [
    {
     "name": "stdout",
     "output_type": "stream",
     "text": [
      "Function sum_array took 0.00000 seconds\n",
      "Function sum_array took 0.00000 seconds\n",
      "Function built_in_sum took 0.00000000 seconds\n",
      "Function built_in_sum took 0.00000000 seconds\n",
      "Function numpy_sum took 0.00099754 seconds\n",
      "Function numpy_sum took 0.00022483 seconds\n"
     ]
    },
    {
     "data": {
      "text/plain": [
       "500500"
      ]
     },
     "execution_count": 64,
     "metadata": {},
     "output_type": "execute_result"
    }
   ],
   "source": [
    "# Измерение времени выполнения функции sum_array на списке и массиве\n",
    "sum_array(list_1000)\n",
    "sum_array(array_1000)\n",
    "\n",
    "# Измерение времени выполнения функции sum() на списке и массиве\n",
    "built_in_sum(list_1000)\n",
    "built_in_sum(array_1000)\n",
    "\n",
    "# Измерение времени выполнения функции numpy.sum() на списке и массиве\n",
    "numpy_sum(list_1000)\n",
    "numpy_sum(array_1000)"
   ]
  },
  {
   "cell_type": "code",
   "execution_count": 67,
   "metadata": {},
   "outputs": [
    {
     "name": "stdout",
     "output_type": "stream",
     "text": [
      "Function sum_array took 0.00000 seconds\n",
      "Function sum_array took 0.00000 seconds\n",
      "Function sum_array took 0.00000 seconds\n",
      "Function sum_array took 0.00000 seconds\n",
      "Function sum_array took 0.00000 seconds\n",
      "Function sum_array took 0.00000 seconds\n",
      "Function sum_array took 0.00000 seconds\n",
      "Function sum_array took 0.00000 seconds\n",
      "Function sum_array took 0.00000 seconds\n",
      "Function sum_array took 0.00000 seconds\n",
      "Function sum_array took 0.00000 seconds\n",
      "Function sum_array took 0.00000 seconds\n",
      "Function sum_array took 0.00000 seconds\n",
      "Function sum_array took 0.00000 seconds\n",
      "Function sum_array took 0.00000 seconds\n",
      "Function sum_array took 0.00000 seconds\n",
      "Function sum_array took 0.00000 seconds\n",
      "Function sum_array took 0.00000 seconds\n",
      "Function sum_array took 0.00000 seconds\n",
      "Function sum_array took 0.00100 seconds\n",
      "Function built_in_sum took 0.00000000 seconds\n",
      "Function built_in_sum took 0.00000000 seconds\n",
      "Function built_in_sum took 0.00000000 seconds\n",
      "Function built_in_sum took 0.00000000 seconds\n",
      "Function built_in_sum took 0.00000000 seconds\n",
      "Function built_in_sum took 0.00000000 seconds\n",
      "Function built_in_sum took 0.00000000 seconds\n",
      "Function built_in_sum took 0.00000000 seconds\n",
      "Function built_in_sum took 0.00000000 seconds\n",
      "Function built_in_sum took 0.00000000 seconds\n",
      "Function built_in_sum took 0.00000000 seconds\n",
      "Function built_in_sum took 0.00000000 seconds\n",
      "Function built_in_sum took 0.00000000 seconds\n",
      "Function built_in_sum took 0.00100064 seconds\n",
      "Function built_in_sum took 0.00000000 seconds\n",
      "Function built_in_sum took 0.00000000 seconds\n",
      "Function built_in_sum took 0.00000000 seconds\n",
      "Function built_in_sum took 0.00000000 seconds\n",
      "Function built_in_sum took 0.00000000 seconds\n",
      "Function built_in_sum took 0.00000000 seconds\n",
      "Function numpy_sum took 0.00000000 seconds\n",
      "Function numpy_sum took 0.00000000 seconds\n",
      "Function numpy_sum took 0.00099945 seconds\n",
      "Function numpy_sum took 0.00000000 seconds\n",
      "Function numpy_sum took 0.00000000 seconds\n",
      "Function numpy_sum took 0.00000000 seconds\n",
      "Function numpy_sum took 0.00000000 seconds\n",
      "Function numpy_sum took 0.00000000 seconds\n",
      "Function numpy_sum took 0.00000000 seconds\n",
      "Function numpy_sum took 0.00000000 seconds\n",
      "Function numpy_sum took 0.00000000 seconds\n",
      "Function numpy_sum took 0.00000000 seconds\n",
      "Function numpy_sum took 0.00000000 seconds\n",
      "Function numpy_sum took 0.00100803 seconds\n",
      "Function numpy_sum took 0.00000000 seconds\n",
      "Function numpy_sum took 0.00000000 seconds\n",
      "Function numpy_sum took 0.00000000 seconds\n",
      "Function numpy_sum took 0.00000000 seconds\n",
      "Function numpy_sum took 0.00000000 seconds\n",
      "Function numpy_sum took 0.00000000 seconds\n"
     ]
    }
   ],
   "source": [
    "# Использование timeit для замера времени выполнения\n",
    "sum_array_list_time = timeit.timeit(lambda: sum_array(list_1000), number=10)\n",
    "sum_array_array_time = timeit.timeit(lambda: sum_array(array_1000), number=10)\n",
    "built_in_sum_list_time = timeit.timeit(lambda: built_in_sum(list_1000), number=10)\n",
    "built_in_sum_array_time = timeit.timeit(lambda: built_in_sum(array_1000), number=10)\n",
    "numpy_sum_array_time = timeit.timeit(lambda: numpy_sum(list_1000), number=10)\n",
    "numpy_sum_list_time = timeit.timeit(lambda: numpy_sum(array_1000), number=10)"
   ]
  },
  {
   "cell_type": "code",
   "execution_count": 68,
   "metadata": {},
   "outputs": [
    {
     "name": "stdout",
     "output_type": "stream",
     "text": [
      "sum_array on list: 0.00004699 seconds\n",
      "sum_array on numpy array: 0.00010313 seconds\n",
      "built_in_sum on list: 0.00001396 seconds\n",
      "built_in_sum on numpy array: 0.00008776 seconds\n",
      "numpy_sum on numpy array: 0.00009685 seconds\n",
      "numpy_sum on list: 0.00001570 seconds\n"
     ]
    }
   ],
   "source": [
    "print(f\"sum_array on list: {sum_array_list_time / 10:.8f} seconds\")\n",
    "print(f\"sum_array on numpy array: {sum_array_array_time / 10:.8f} seconds\")\n",
    "print(f\"built_in_sum on list: {built_in_sum_list_time / 10:.8f} seconds\")\n",
    "print(f\"built_in_sum on numpy array: {built_in_sum_array_time / 10:.8f} seconds\")\n",
    "print(f\"numpy_sum on numpy array: {numpy_sum_array_time / 10:.8f} seconds\")\n",
    "print(f\"numpy_sum on list: {numpy_sum_list_time / 10:.8f} seconds\")"
   ]
  },
  {
   "cell_type": "markdown",
   "metadata": {},
   "source": [
    "4. Объясните полученные результаты. **Везде далее запрещено использовать циклы.** *Numpy имеет большинство необходимых функций для операций над тензорами, например [Numerical operations on arrays](http://www.scipy-lectures.org/intro/numpy/operations.html).*"
   ]
  },
  {
   "cell_type": "markdown",
   "metadata": {},
   "source": [
    "5. Загрузите и  выведите на экран картинку autodoc.png. *Используйте библиотеки skimage и matplotlib.*"
   ]
  },
  {
   "cell_type": "markdown",
   "metadata": {},
   "source": [
    "6. Получите и интерпретируйте размеры картинки."
   ]
  },
  {
   "cell_type": "markdown",
   "metadata": {},
   "source": [
    "7. Выведите верхнюю и левую половины изображения. \n",
    "\n",
    "8. Выведите произвольный прямоугольник изображения."
   ]
  },
  {
   "cell_type": "markdown",
   "metadata": {},
   "source": [
    "9. Выведите каждый канал изображения отдельно."
   ]
  },
  {
   "cell_type": "markdown",
   "metadata": {},
   "source": [
    "10. Получите черно-белое изображение путем усреднения по каналам. *Сначала самостоятельно реализуйте усреднение, затем правильно воспользуйтесь функцией numpy.mean()* \n",
    "11. Получите негатив для черно-белого изображения.\n",
    "12. Бинаризуйте черно-белое изображение по некоторому порогу."
   ]
  },
  {
   "cell_type": "markdown",
   "metadata": {},
   "source": [
    "13. Уменьшите цветное изображение в 2 раза. *Используйте самый элементарный способ*."
   ]
  },
  {
   "cell_type": "markdown",
   "metadata": {},
   "source": [
    "14. Отразите цветное изображение по любой из осей.\n",
    "15. Поверните на 90 градусов и отразите цветное изображение за константное время."
   ]
  },
  {
   "cell_type": "markdown",
   "metadata": {},
   "source": [
    "16. Преобразуйте картинку в матрицу, где строка - это пиксель изображения, а столбцы - это кординаты и значение RGB этого пикселя."
   ]
  },
  {
   "cell_type": "markdown",
   "metadata": {},
   "source": [
    "## Оформление\n",
    "Изучите и строго следуйте [PEP 8 Style Guide for Python Code](https://www.python.org/dev/peps/pep-0008/). Используйте возможности jupyter notebook для оформления отчета. Оформление кода и задачи в целом также учитывается."
   ]
  }
 ],
 "metadata": {
  "anaconda-cloud": {},
  "kernelspec": {
   "display_name": "Python 3",
   "language": "python",
   "name": "python3"
  },
  "language_info": {
   "codemirror_mode": {
    "name": "ipython",
    "version": 3
   },
   "file_extension": ".py",
   "mimetype": "text/x-python",
   "name": "python",
   "nbconvert_exporter": "python",
   "pygments_lexer": "ipython3",
   "version": "3.10.11"
  }
 },
 "nbformat": 4,
 "nbformat_minor": 1
}
