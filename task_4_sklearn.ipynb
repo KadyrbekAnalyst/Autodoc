{
 "cells": [
  {
   "cell_type": "markdown",
   "metadata": {},
   "source": [
    "# Задание #3 Sklearn и основы ML\n",
    "\n",
    "## Инструменты и ресурсы для выполнения задания\n",
    "\n",
    "### Библиотеки Python\n",
    "\n",
    "* [Sklearn](http://scikit-learn.org/stable/).\n",
    "  - [Introduction to machine learning in Python with scikit-learn](http://www.dataschool.io/machine-learning-with-scikit-learn/).\n",
    "* [Kaggle Python Tutorial on Machine Learning](https://campus.datacamp.com/courses/kaggle-python-tutorial-on-machine-learning).\n",
    "\n",
    "### Ресурсы по изучению ML\n",
    "* [ML from Stanford University](https://www.coursera.org/learn/machine-learning/). Самый базовый курс.\n",
    "* [Введение в машинное обучение](https://www.coursera.org/learn/vvedenie-mashinnoe-obuchenie/). Курс професссора Воронцова К.В. на coursera.org. Существенно более полный, чем курс Andrew Ng, но сокращен по сравнению с курсом, читаемым в ШАД.\n",
    "\n",
    "![what I really do](https://pp.vk.me/c629431/v629431882/2a1a8/7EAKCA_FtnA.jpg)\n",
    "  \n",
    "## Разминка\n",
    "1. Загрузите набор данных [Spambase](https://archive.ics.uci.edu/ml/datasets/Spambase). *Сами данные находятся по ссылке http://archive.ics.uci.edu/ml/machine-learning-databases/spambase/spambase.data. Вам также потребуются имена признаков, которые доступны по ссылке http://archive.ics.uci.edu/ml/machine-learning-databases/spambase/spambase.names*."
   ]
  },
  {
   "cell_type": "markdown",
   "metadata": {},
   "source": [
    "2. Ответьте на следующие воросы:\n",
    "  * Сколько примеров писем в датасете?"
   ]
  },
  {
   "cell_type": "markdown",
   "metadata": {},
   "source": [
    "  * Какова доля спама?"
   ]
  },
  {
   "cell_type": "markdown",
   "metadata": {},
   "source": [
    "  * Какие характерные группы признаков представлены в наборе?"
   ]
  },
  {
   "cell_type": "markdown",
   "metadata": {},
   "source": [
    "* процент слов в электронном письме, которые соответствуют конкретному слову\n",
    "* процент символов в электронном письме, которые соответствуют конкретному символу\n",
    "* средняя длина непрерывных последовательностей заглавных букв\n",
    "* длина самой длинной непрерывной последовательности заглавных букв\n",
    "* сумма длины непрерывных последовательностей заглавных букв\n",
    "* общее количество заглавных букв в электронном письме\n",
    "* атрибут, показывающий спам это или нет"
   ]
  },
  {
   "cell_type": "markdown",
   "metadata": {},
   "source": [
    "3. Подготовьте два разбиения исходного набора данных на тестовую (test) и обучающую (train) выборки:\n",
    "  * Первые 3000 писем отдайте на обучение, а оставшиеся на тест.\n",
    "  * Сделайте случайное разбиение в тех же пропорциях."
   ]
  },
  {
   "cell_type": "markdown",
   "metadata": {},
   "source": [
    "4. Для первого из разбиений обучите алгоритм sklearn.tree.DecisionTreeClassifier на обучающей выборке."
   ]
  },
  {
   "cell_type": "markdown",
   "source": [
    "5. Замерьте метрики качества recall, precision, f1, accuracy на тестовой выборке из первого разбиения."
   ],
   "metadata": {
    "collapsed": false,
    "pycharm": {
     "name": "#%% md\n"
    }
   }
  },
  {
   "cell_type": "markdown",
   "metadata": {},
   "source": [
    "6. Повторите пункты 4. и 5. для второго разбиения."
   ]
  },
  {
   "cell_type": "markdown",
   "metadata": {},
   "source": [
    "7. Объясните разницу в результатах. **Далее используйте только второе (случайное) разбиение.**"
   ]
  },
  {
   "cell_type": "markdown",
   "metadata": {},
   "source": [
    "8. Для модели, обученной на случайном разбиении, выведите оценку информативности признаков (feature importance)."
   ]
  },
  {
   "cell_type": "markdown",
   "metadata": {},
   "source": [
    "9. Предложите способ, как можно использовать данную оценку?"
   ]
  },
  {
   "cell_type": "markdown",
   "metadata": {},
   "source": [
    "10. Предложите способ, которым решающее дерево способно дать такую оценку."
   ]
  },
  {
   "cell_type": "markdown",
   "metadata": {},
   "source": [
    "11. Обучите алгоритм sklearn.neighbors.KNeighborsClassifier на обучающей выборке и произведите оценку качества модели на тестовой выборке."
   ]
  },
  {
   "cell_type": "markdown",
   "metadata": {},
   "source": [
    "12. Какая из обученных моделей лучше?"
   ]
  },
  {
   "cell_type": "markdown",
   "metadata": {},
   "source": [
    "13. Способен ли KNN оценить информативность признаков?"
   ]
  },
  {
   "cell_type": "markdown",
   "source": [
    "14. Произведите нормировку обучающей и тестовой выборок."
   ],
   "metadata": {
    "collapsed": false
   }
  },
  {
   "cell_type": "markdown",
   "metadata": {},
   "source": [
    "15. Повторите эксперимент с KNN на нормированных данных. Объясните разницу в результатах."
   ]
  },
  {
   "cell_type": "markdown",
   "metadata": {},
   "source": [
    "16. Повторите эксперимент с решающим деревом на нормированных данных. Сравните результаты с теми, которые получены на ненормированных данных. Объясните подобное поведение."
   ]
  },
  {
   "cell_type": "markdown",
   "metadata": {},
   "source": [
    "17. Пропорции разбиения на данный момент выбраны безосновательно. Найдите оптимальные пропорции разбиения на train и test. Для этого необходимо перебрать значения пропорции разбиения по сетке, для каждого значения сгенерировать большое число разбиений и на каждом посчитать ошибку (с точки зрения выбранной метрики, например, f1), далее строится график зависимости дисперсии величины ошибки от пропорции разбиения, пропорция разбиения выбирается из области наименьшей дисперсии ошибки. Выберите метрику и постройте график зависимости дисперсии ошибки от пропорции разбиения."
   ]
  },
  {
   "cell_type": "markdown",
   "metadata": {},
   "source": [
    "18. Однократное разбиение выборки на train и test не является достаточно хорошим методом с точки зрения оценки качества моделей. На практике используется многократное разбиение или т.н. Cross Validation. Получите оценки качества для решающего дерева и KNN, используя Cross Validation. *Существует несколько типов Cross Validation. Выберите один из них и обоснуйте свой выбор.*"
   ]
  },
  {
   "cell_type": "markdown",
   "metadata": {},
   "source": [
    "19. На данный момент параметры алгоритмов KNN и Decision Tree выбраны наугад. Для одбора параметров используется т.н. Greed Search. \n",
    "  - Найдите оптимальный набор параметров дерева, перебрав значения параметров по сетке. Параметры для настройки: критерий разбиения, максимальная глубина, число признаков для каждого узла, минимальное число объектов в листе.\n",
    "  - Найдите оптимальный набор параметров для KNN, перебрав значения параметров по сетке. Параметры для настройки: число соседей, функция расстояния, схема взвешивания."
   ]
  }
 ],
 "metadata": {
  "anaconda-cloud": {},
  "kernelspec": {
   "display_name": "Python 3",
   "language": "python",
   "name": "python3"
  },
  "language_info": {
   "codemirror_mode": {
    "name": "ipython",
    "version": 3
   },
   "file_extension": ".py",
   "mimetype": "text/x-python",
   "name": "python",
   "nbconvert_exporter": "python",
   "pygments_lexer": "ipython3",
   "version": "3.7.4"
  }
 },
 "nbformat": 4,
 "nbformat_minor": 1
}